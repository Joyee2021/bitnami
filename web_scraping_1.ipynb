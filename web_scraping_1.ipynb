{
  "cells": [
    {
      "cell_type": "markdown",
      "metadata": {
        "id": "view-in-github",
        "colab_type": "text"
      },
      "source": [
        "<a href=\"https://colab.research.google.com/github/Joyee2021/bitnami/blob/main/web_scraping_1.ipynb\" target=\"_parent\"><img src=\"https://colab.research.google.com/assets/colab-badge.svg\" alt=\"Open In Colab\"/></a>"
      ]
    },
    {
      "cell_type": "code",
      "source": [
        "pip install requests"
      ],
      "metadata": {
        "colab": {
          "base_uri": "https://localhost:8080/"
        },
        "id": "_Nr4Aiwl0vci",
        "outputId": "30943bc6-b55f-4a43-817f-1f5742248df5"
      },
      "execution_count": 14,
      "outputs": [
        {
          "output_type": "stream",
          "name": "stdout",
          "text": [
            "Requirement already satisfied: requests in /usr/local/lib/python3.10/dist-packages (2.31.0)\n",
            "Requirement already satisfied: charset-normalizer<4,>=2 in /usr/local/lib/python3.10/dist-packages (from requests) (3.2.0)\n",
            "Requirement already satisfied: idna<4,>=2.5 in /usr/local/lib/python3.10/dist-packages (from requests) (3.4)\n",
            "Requirement already satisfied: urllib3<3,>=1.21.1 in /usr/local/lib/python3.10/dist-packages (from requests) (2.0.4)\n",
            "Requirement already satisfied: certifi>=2017.4.17 in /usr/local/lib/python3.10/dist-packages (from requests) (2023.7.22)\n"
          ]
        }
      ]
    },
    {
      "cell_type": "code",
      "source": [
        "pip install bs4"
      ],
      "metadata": {
        "colab": {
          "base_uri": "https://localhost:8080/"
        },
        "id": "ZYHEIMOY1AiN",
        "outputId": "40cc85d3-5161-48cb-884d-c493b8da821e"
      },
      "execution_count": 2,
      "outputs": [
        {
          "output_type": "stream",
          "name": "stdout",
          "text": [
            "Collecting bs4\n",
            "  Downloading bs4-0.0.1.tar.gz (1.1 kB)\n",
            "  Preparing metadata (setup.py) ... \u001b[?25l\u001b[?25hdone\n",
            "Requirement already satisfied: beautifulsoup4 in /usr/local/lib/python3.10/dist-packages (from bs4) (4.11.2)\n",
            "Requirement already satisfied: soupsieve>1.2 in /usr/local/lib/python3.10/dist-packages (from beautifulsoup4->bs4) (2.4.1)\n",
            "Building wheels for collected packages: bs4\n",
            "  Building wheel for bs4 (setup.py) ... \u001b[?25l\u001b[?25hdone\n",
            "  Created wheel for bs4: filename=bs4-0.0.1-py3-none-any.whl size=1256 sha256=d6641b9a2a674b710873193bfac3558c51f89d7a56dce78d78bd8111d88457dd\n",
            "  Stored in directory: /root/.cache/pip/wheels/25/42/45/b773edc52acb16cd2db4cf1a0b47117e2f69bb4eb300ed0e70\n",
            "Successfully built bs4\n",
            "Installing collected packages: bs4\n",
            "Successfully installed bs4-0.0.1\n"
          ]
        }
      ]
    },
    {
      "cell_type": "code",
      "source": [
        "import requests\n",
        "from bs4 import BeautifulSoup"
      ],
      "metadata": {
        "id": "cdwIzkPY1Uis"
      },
      "execution_count": 15,
      "outputs": []
    },
    {
      "cell_type": "code",
      "source": [
        "import csv"
      ],
      "metadata": {
        "id": "GOI-vN981fcZ"
      },
      "execution_count": 16,
      "outputs": []
    },
    {
      "cell_type": "code",
      "source": [
        "url=\"https://www.amazon.in/s?k=bags&crid=2M096C61O4MLT&qid=1653308124&sprefix=ba%2Caps%2C283&ref=sr_pg_\"\n"
      ],
      "metadata": {
        "id": "6p2pf3501iBP"
      },
      "execution_count": 17,
      "outputs": []
    },
    {
      "cell_type": "code",
      "source": [
        "file=open('amazon.csv','w')\n",
        "writer=csv.writer(file)\n",
        "writer.writerow(['Product URL','Product Name','Product Price','Rating','Number of reviews'])"
      ],
      "metadata": {
        "colab": {
          "base_uri": "https://localhost:8080/"
        },
        "id": "Atvj_QKE1vDj",
        "outputId": "1cc0d075-537d-484d-9462-f90489d92ef6"
      },
      "execution_count": 18,
      "outputs": [
        {
          "output_type": "execute_result",
          "data": {
            "text/plain": [
              "65"
            ]
          },
          "metadata": {},
          "execution_count": 18
        }
      ]
    },
    {
      "cell_type": "code",
      "source": [
        "pages=20"
      ],
      "metadata": {
        "id": "ZdiVE5RH3K7y"
      },
      "execution_count": 19,
      "outputs": []
    },
    {
      "cell_type": "code",
      "source": [
        "for i in range(1,pages+1):\n",
        "  url=url+str(i)\n",
        "  response=requests.get(url)\n",
        "  soup=BeautifulSoup(response.content,'html.parser')\n",
        "  products=soup.find_all('div',{'data-component-type':'s-search-result'})\n",
        "  for p in products:\n",
        "    product_url=\"https://www.amazon.in\"+p.find('a',{'class':'a-link-normal'})['href']\n",
        "    product_name=p.find('span',{'class':'a-text-normal'}).text.strip()\n",
        "    product_price=p.find('span',{'class':'a-price-whole'}).text.strip()\n",
        "    product_rating=p.find('span',{'class':'a-icon-alt'})\n",
        "    if product_rating:\n",
        "      rating=product_rating.text.split()[0]\n",
        "    else:\n",
        "      rating=\"NO rating\"\n",
        "    product_review=p.find('span',{'class':'a-size-base'})\n",
        "    if product_review:\n",
        "      review=product_review.text.replace(',','')\n",
        "    else:\n",
        "      review=\"0\"\n",
        "    writer.writerow([product_url,product_name,product_price,rating,review])"
      ],
      "metadata": {
        "id": "-ANQdKIG20LQ"
      },
      "execution_count": 21,
      "outputs": []
    }
  ],
  "metadata": {
    "colab": {
      "name": "Welcome To Colaboratory",
      "provenance": [],
      "include_colab_link": true
    },
    "kernelspec": {
      "display_name": "Python 3",
      "name": "python3"
    }
  },
  "nbformat": 4,
  "nbformat_minor": 0
}